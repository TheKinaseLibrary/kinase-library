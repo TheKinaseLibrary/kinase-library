{
 "cells": [
  {
   "cell_type": "markdown",
   "id": "0bfa94f3-386e-42c5-990a-677e96378fbb",
   "metadata": {},
   "source": [
    "# The Kinase Library"
   ]
  },
  {
   "cell_type": "code",
   "execution_count": 1,
   "id": "6af081d6-ccab-47ab-a9bb-5a2c6805a9bd",
   "metadata": {},
   "outputs": [],
   "source": [
    "import kinase_library as kl"
   ]
  },
  {
   "cell_type": "markdown",
   "id": "fab1427f-b515-4f95-83eb-9c3d36e46208",
   "metadata": {},
   "source": [
    "## Substrate object"
   ]
  },
  {
   "cell_type": "markdown",
   "id": "c1358052-f434-4dee-a72e-0e0cd36ed409",
   "metadata": {},
   "source": [
    "> _An example of how to utlize individual scores to decipher a phosphorylation cascade can be found in [\"Host protein kinases required for SARS-CoV-2 nucleocapsid phosphorylation and viral replication\" (Yaron et al., Science Signaling, 2023)](https://www.science.org/doi/full/10.1126/scisignal.abm0808)_\n",
    "\n",
    "For example:"
   ]
  },
  {
   "cell_type": "code",
   "execution_count": 2,
   "id": "95acf6c9-dc0e-4ea1-a07f-5a96918fbc93",
   "metadata": {},
   "outputs": [],
   "source": [
    "s = kl.Substrate('PSVEPPLsQETFSDL') #p53 S33"
   ]
  },
  {
   "cell_type": "markdown",
   "id": "32f3cfb8-186e-4459-b636-6327a67eec9c",
   "metadata": {},
   "source": [
    "Get the scores, percentiles, and ranks for different kinases (can use the pararmeter `kinases` for specific kinases only):"
   ]
  },
  {
   "cell_type": "code",
   "execution_count": 3,
   "id": "148f10a2-bfce-437a-821a-e4e676aba6ff",
   "metadata": {},
   "outputs": [
    {
     "data": {
      "text/plain": [
       "ATM       5.0385\n",
       "SMG1      4.2377\n",
       "DNAPK     3.8172\n",
       "ATR       3.5045\n",
       "FAM20C    3.1716\n",
       "           ...  \n",
       "P70S6K   -7.2917\n",
       "AKT3     -7.3741\n",
       "PKCI     -7.7337\n",
       "PBK      -7.9945\n",
       "NEK3     -8.2455\n",
       "Length: 309, dtype: float64"
      ]
     },
     "execution_count": 3,
     "metadata": {},
     "output_type": "execute_result"
    }
   ],
   "source": [
    "s.score()"
   ]
  },
  {
   "cell_type": "code",
   "execution_count": 4,
   "id": "7bacf731-df54-4c73-afcd-51e5a21a8820",
   "metadata": {},
   "outputs": [
    {
     "data": {
      "text/plain": [
       "ATM        99.83\n",
       "SMG1       99.77\n",
       "ATR        99.69\n",
       "DNAPK      99.21\n",
       "FAM20C     95.23\n",
       "           ...  \n",
       "BRAF        7.86\n",
       "AKT2        6.79\n",
       "P70S6KB     6.64\n",
       "NEK3        4.85\n",
       "P70S6K      4.19\n",
       "Length: 309, dtype: float64"
      ]
     },
     "execution_count": 4,
     "metadata": {},
     "output_type": "execute_result"
    }
   ],
   "source": [
    "s.percentile()"
   ]
  },
  {
   "cell_type": "code",
   "execution_count": 5,
   "id": "6dd9e2b5-981d-40ac-a125-30e6e36bf53d",
   "metadata": {},
   "outputs": [
    {
     "data": {
      "text/plain": [
       "ATM          1\n",
       "SMG1         2\n",
       "ATR          3\n",
       "DNAPK        4\n",
       "FAM20C       5\n",
       "          ... \n",
       "BRAF       305\n",
       "AKT2       306\n",
       "P70S6KB    307\n",
       "NEK3       308\n",
       "P70S6K     309\n",
       "Length: 309, dtype: int64"
      ]
     },
     "execution_count": 5,
     "metadata": {},
     "output_type": "execute_result"
    }
   ],
   "source": [
    "s.rank(method='percentile')"
   ]
  },
  {
   "cell_type": "markdown",
   "id": "2eddac9e-22d9-4d47-b064-86310fc1a51a",
   "metadata": {},
   "source": [
    "The function _predict_ can be used to calculate all data together. Each kinase will have four columns:\n",
    "1. _Score_: score\n",
    "2. _Score Rank_: rank based on score\n",
    "3. _Percentile_: percentile\n",
    "4. _Percentile Rank_: rank base on percentile"
   ]
  },
  {
   "cell_type": "code",
   "execution_count": 6,
   "id": "c5f86645-4e96-4431-938b-cfea148afa16",
   "metadata": {},
   "outputs": [
    {
     "data": {
      "text/html": [
       "<div>\n",
       "<style scoped>\n",
       "    .dataframe tbody tr th:only-of-type {\n",
       "        vertical-align: middle;\n",
       "    }\n",
       "\n",
       "    .dataframe tbody tr th {\n",
       "        vertical-align: top;\n",
       "    }\n",
       "\n",
       "    .dataframe thead th {\n",
       "        text-align: right;\n",
       "    }\n",
       "</style>\n",
       "<table border=\"1\" class=\"dataframe\">\n",
       "  <thead>\n",
       "    <tr style=\"text-align: right;\">\n",
       "      <th></th>\n",
       "      <th>Score</th>\n",
       "      <th>Score Rank</th>\n",
       "      <th>Percentile</th>\n",
       "      <th>Percentile Rank</th>\n",
       "    </tr>\n",
       "  </thead>\n",
       "  <tbody>\n",
       "    <tr>\n",
       "      <th>ATM</th>\n",
       "      <td>5.0385</td>\n",
       "      <td>1</td>\n",
       "      <td>99.83</td>\n",
       "      <td>1</td>\n",
       "    </tr>\n",
       "    <tr>\n",
       "      <th>SMG1</th>\n",
       "      <td>4.2377</td>\n",
       "      <td>2</td>\n",
       "      <td>99.77</td>\n",
       "      <td>2</td>\n",
       "    </tr>\n",
       "    <tr>\n",
       "      <th>ATR</th>\n",
       "      <td>3.5045</td>\n",
       "      <td>4</td>\n",
       "      <td>99.69</td>\n",
       "      <td>3</td>\n",
       "    </tr>\n",
       "    <tr>\n",
       "      <th>DNAPK</th>\n",
       "      <td>3.8172</td>\n",
       "      <td>3</td>\n",
       "      <td>99.21</td>\n",
       "      <td>4</td>\n",
       "    </tr>\n",
       "    <tr>\n",
       "      <th>FAM20C</th>\n",
       "      <td>3.1716</td>\n",
       "      <td>5</td>\n",
       "      <td>95.23</td>\n",
       "      <td>5</td>\n",
       "    </tr>\n",
       "    <tr>\n",
       "      <th>...</th>\n",
       "      <td>...</td>\n",
       "      <td>...</td>\n",
       "      <td>...</td>\n",
       "      <td>...</td>\n",
       "    </tr>\n",
       "    <tr>\n",
       "      <th>BRAF</th>\n",
       "      <td>-4.4003</td>\n",
       "      <td>241</td>\n",
       "      <td>7.86</td>\n",
       "      <td>305</td>\n",
       "    </tr>\n",
       "    <tr>\n",
       "      <th>AKT2</th>\n",
       "      <td>-5.6530</td>\n",
       "      <td>283</td>\n",
       "      <td>6.79</td>\n",
       "      <td>306</td>\n",
       "    </tr>\n",
       "    <tr>\n",
       "      <th>P70S6KB</th>\n",
       "      <td>-3.9915</td>\n",
       "      <td>221</td>\n",
       "      <td>6.64</td>\n",
       "      <td>307</td>\n",
       "    </tr>\n",
       "    <tr>\n",
       "      <th>NEK3</th>\n",
       "      <td>-8.2455</td>\n",
       "      <td>309</td>\n",
       "      <td>4.85</td>\n",
       "      <td>308</td>\n",
       "    </tr>\n",
       "    <tr>\n",
       "      <th>P70S6K</th>\n",
       "      <td>-7.2917</td>\n",
       "      <td>305</td>\n",
       "      <td>4.19</td>\n",
       "      <td>309</td>\n",
       "    </tr>\n",
       "  </tbody>\n",
       "</table>\n",
       "<p>309 rows × 4 columns</p>\n",
       "</div>"
      ],
      "text/plain": [
       "          Score  Score Rank  Percentile  Percentile Rank\n",
       "ATM      5.0385           1       99.83                1\n",
       "SMG1     4.2377           2       99.77                2\n",
       "ATR      3.5045           4       99.69                3\n",
       "DNAPK    3.8172           3       99.21                4\n",
       "FAM20C   3.1716           5       95.23                5\n",
       "...         ...         ...         ...              ...\n",
       "BRAF    -4.4003         241        7.86              305\n",
       "AKT2    -5.6530         283        6.79              306\n",
       "P70S6KB -3.9915         221        6.64              307\n",
       "NEK3    -8.2455         309        4.85              308\n",
       "P70S6K  -7.2917         305        4.19              309\n",
       "\n",
       "[309 rows x 4 columns]"
      ]
     },
     "execution_count": 6,
     "metadata": {},
     "output_type": "execute_result"
    }
   ],
   "source": [
    "s.predict()"
   ]
  },
  {
   "cell_type": "code",
   "execution_count": 7,
   "id": "3f4b5a21-8fad-40f2-ad5d-92fe20e5765d",
   "metadata": {},
   "outputs": [
    {
     "data": {
      "text/html": [
       "<div>\n",
       "<style scoped>\n",
       "    .dataframe tbody tr th:only-of-type {\n",
       "        vertical-align: middle;\n",
       "    }\n",
       "\n",
       "    .dataframe tbody tr th {\n",
       "        vertical-align: top;\n",
       "    }\n",
       "\n",
       "    .dataframe thead th {\n",
       "        text-align: right;\n",
       "    }\n",
       "</style>\n",
       "<table border=\"1\" class=\"dataframe\">\n",
       "  <thead>\n",
       "    <tr style=\"text-align: right;\">\n",
       "      <th></th>\n",
       "      <th>Score</th>\n",
       "      <th>Score Rank</th>\n",
       "      <th>Percentile</th>\n",
       "      <th>Percentile Rank</th>\n",
       "    </tr>\n",
       "  </thead>\n",
       "  <tbody>\n",
       "    <tr>\n",
       "      <th>ATM</th>\n",
       "      <td>5.0385</td>\n",
       "      <td>1</td>\n",
       "      <td>99.83</td>\n",
       "      <td>1</td>\n",
       "    </tr>\n",
       "    <tr>\n",
       "      <th>SMG1</th>\n",
       "      <td>4.2377</td>\n",
       "      <td>2</td>\n",
       "      <td>99.77</td>\n",
       "      <td>2</td>\n",
       "    </tr>\n",
       "    <tr>\n",
       "      <th>ATR</th>\n",
       "      <td>3.5045</td>\n",
       "      <td>4</td>\n",
       "      <td>99.69</td>\n",
       "      <td>3</td>\n",
       "    </tr>\n",
       "    <tr>\n",
       "      <th>DNAPK</th>\n",
       "      <td>3.8172</td>\n",
       "      <td>3</td>\n",
       "      <td>99.21</td>\n",
       "      <td>4</td>\n",
       "    </tr>\n",
       "    <tr>\n",
       "      <th>CHK1</th>\n",
       "      <td>-0.4753</td>\n",
       "      <td>54</td>\n",
       "      <td>73.41</td>\n",
       "      <td>44</td>\n",
       "    </tr>\n",
       "    <tr>\n",
       "      <th>RSK4</th>\n",
       "      <td>-2.1822</td>\n",
       "      <td>125</td>\n",
       "      <td>57.23</td>\n",
       "      <td>109</td>\n",
       "    </tr>\n",
       "    <tr>\n",
       "      <th>MTOR</th>\n",
       "      <td>-1.0547</td>\n",
       "      <td>85</td>\n",
       "      <td>41.04</td>\n",
       "      <td>171</td>\n",
       "    </tr>\n",
       "    <tr>\n",
       "      <th>PDK1</th>\n",
       "      <td>-3.4896</td>\n",
       "      <td>204</td>\n",
       "      <td>23.56</td>\n",
       "      <td>248</td>\n",
       "    </tr>\n",
       "    <tr>\n",
       "      <th>BRAF</th>\n",
       "      <td>-4.4003</td>\n",
       "      <td>241</td>\n",
       "      <td>7.86</td>\n",
       "      <td>305</td>\n",
       "    </tr>\n",
       "    <tr>\n",
       "      <th>P70S6K</th>\n",
       "      <td>-7.2917</td>\n",
       "      <td>305</td>\n",
       "      <td>4.19</td>\n",
       "      <td>309</td>\n",
       "    </tr>\n",
       "  </tbody>\n",
       "</table>\n",
       "</div>"
      ],
      "text/plain": [
       "         Score  Score Rank  Percentile  Percentile Rank\n",
       "ATM     5.0385           1       99.83                1\n",
       "SMG1    4.2377           2       99.77                2\n",
       "ATR     3.5045           4       99.69                3\n",
       "DNAPK   3.8172           3       99.21                4\n",
       "CHK1   -0.4753          54       73.41               44\n",
       "RSK4   -2.1822         125       57.23              109\n",
       "MTOR   -1.0547          85       41.04              171\n",
       "PDK1   -3.4896         204       23.56              248\n",
       "BRAF   -4.4003         241        7.86              305\n",
       "P70S6K -7.2917         305        4.19              309"
      ]
     },
     "execution_count": 7,
     "metadata": {},
     "output_type": "execute_result"
    }
   ],
   "source": [
    "s.predict(kinases=['ATM','atr','SmG1','DNApk','CHK1','rsk4','mTOR','PDK1','BRAF','p70S6K'])"
   ]
  },
  {
   "cell_type": "markdown",
   "id": "2a1b8c91-af77-4a97-8440-1a12dc9d533f",
   "metadata": {},
   "source": [
    "If you want to incorporate phosphopriming (phosphorylated residues around the phosphoacceptor) - use lower case:"
   ]
  },
  {
   "cell_type": "code",
   "execution_count": 8,
   "id": "53b300d5-2968-42a3-a0b9-b4e7170726eb",
   "metadata": {},
   "outputs": [],
   "source": [
    "s_pp = kl.Substrate('QQQSYLDsGIHsGAT', pp=True) #beta-catenin (CTNNB1) S33"
   ]
  },
  {
   "cell_type": "code",
   "execution_count": 9,
   "id": "a1566ef8-eae6-4cbd-a587-73c0f8e02fa5",
   "metadata": {},
   "outputs": [
    {
     "data": {
      "text/html": [
       "<div>\n",
       "<style scoped>\n",
       "    .dataframe tbody tr th:only-of-type {\n",
       "        vertical-align: middle;\n",
       "    }\n",
       "\n",
       "    .dataframe tbody tr th {\n",
       "        vertical-align: top;\n",
       "    }\n",
       "\n",
       "    .dataframe thead th {\n",
       "        text-align: right;\n",
       "    }\n",
       "</style>\n",
       "<table border=\"1\" class=\"dataframe\">\n",
       "  <thead>\n",
       "    <tr style=\"text-align: right;\">\n",
       "      <th></th>\n",
       "      <th>Score</th>\n",
       "      <th>Score Rank</th>\n",
       "      <th>Percentile</th>\n",
       "      <th>Percentile Rank</th>\n",
       "    </tr>\n",
       "  </thead>\n",
       "  <tbody>\n",
       "    <tr>\n",
       "      <th>GSK3B</th>\n",
       "      <td>5.3277</td>\n",
       "      <td>1</td>\n",
       "      <td>100.00</td>\n",
       "      <td>1</td>\n",
       "    </tr>\n",
       "    <tr>\n",
       "      <th>GSK3A</th>\n",
       "      <td>3.9962</td>\n",
       "      <td>2</td>\n",
       "      <td>98.09</td>\n",
       "      <td>2</td>\n",
       "    </tr>\n",
       "    <tr>\n",
       "      <th>CK1G2</th>\n",
       "      <td>1.7640</td>\n",
       "      <td>4</td>\n",
       "      <td>95.75</td>\n",
       "      <td>3</td>\n",
       "    </tr>\n",
       "    <tr>\n",
       "      <th>CAMKK2</th>\n",
       "      <td>-0.3313</td>\n",
       "      <td>37</td>\n",
       "      <td>95.56</td>\n",
       "      <td>4</td>\n",
       "    </tr>\n",
       "    <tr>\n",
       "      <th>MASTL</th>\n",
       "      <td>0.3855</td>\n",
       "      <td>19</td>\n",
       "      <td>94.63</td>\n",
       "      <td>5</td>\n",
       "    </tr>\n",
       "    <tr>\n",
       "      <th>...</th>\n",
       "      <td>...</td>\n",
       "      <td>...</td>\n",
       "      <td>...</td>\n",
       "      <td>...</td>\n",
       "    </tr>\n",
       "    <tr>\n",
       "      <th>HASPIN</th>\n",
       "      <td>-8.1115</td>\n",
       "      <td>309</td>\n",
       "      <td>6.11</td>\n",
       "      <td>305</td>\n",
       "    </tr>\n",
       "    <tr>\n",
       "      <th>MAP3K15</th>\n",
       "      <td>-6.4820</td>\n",
       "      <td>301</td>\n",
       "      <td>5.59</td>\n",
       "      <td>306</td>\n",
       "    </tr>\n",
       "    <tr>\n",
       "      <th>SRPK2</th>\n",
       "      <td>-6.4160</td>\n",
       "      <td>299</td>\n",
       "      <td>3.16</td>\n",
       "      <td>307</td>\n",
       "    </tr>\n",
       "    <tr>\n",
       "      <th>SRPK3</th>\n",
       "      <td>-5.1276</td>\n",
       "      <td>272</td>\n",
       "      <td>2.78</td>\n",
       "      <td>308</td>\n",
       "    </tr>\n",
       "    <tr>\n",
       "      <th>SRPK1</th>\n",
       "      <td>-5.8624</td>\n",
       "      <td>292</td>\n",
       "      <td>2.09</td>\n",
       "      <td>309</td>\n",
       "    </tr>\n",
       "  </tbody>\n",
       "</table>\n",
       "<p>309 rows × 4 columns</p>\n",
       "</div>"
      ],
      "text/plain": [
       "          Score  Score Rank  Percentile  Percentile Rank\n",
       "GSK3B    5.3277           1      100.00                1\n",
       "GSK3A    3.9962           2       98.09                2\n",
       "CK1G2    1.7640           4       95.75                3\n",
       "CAMKK2  -0.3313          37       95.56                4\n",
       "MASTL    0.3855          19       94.63                5\n",
       "...         ...         ...         ...              ...\n",
       "HASPIN  -8.1115         309        6.11              305\n",
       "MAP3K15 -6.4820         301        5.59              306\n",
       "SRPK2   -6.4160         299        3.16              307\n",
       "SRPK3   -5.1276         272        2.78              308\n",
       "SRPK1   -5.8624         292        2.09              309\n",
       "\n",
       "[309 rows x 4 columns]"
      ]
     },
     "execution_count": 9,
     "metadata": {},
     "output_type": "execute_result"
    }
   ],
   "source": [
    "s_pp.predict()"
   ]
  }
 ],
 "metadata": {
  "kernelspec": {
   "display_name": "Python 3 (ipykernel)",
   "language": "python",
   "name": "python3"
  },
  "language_info": {
   "codemirror_mode": {
    "name": "ipython",
    "version": 3
   },
   "file_extension": ".py",
   "mimetype": "text/x-python",
   "name": "python",
   "nbconvert_exporter": "python",
   "pygments_lexer": "ipython3",
   "version": "3.10.13"
  }
 },
 "nbformat": 4,
 "nbformat_minor": 5
}
